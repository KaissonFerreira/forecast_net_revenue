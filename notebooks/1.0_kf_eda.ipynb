{
 "cells": [
  {
   "cell_type": "markdown",
   "metadata": {},
   "source": [
    "# Projeto - Previsão de receita"
   ]
  },
  {
   "cell_type": "markdown",
   "metadata": {},
   "source": [
    "## Contexto:"
   ]
  },
  {
   "cell_type": "markdown",
   "metadata": {},
   "source": [
    "**O contexto não foi definido**. Entretanto, para contextualizar o projeto **estarei adotando a seguinte abordagem:**\n",
    "\n",
    "**Contexto:** Uma empresa chamada QualityShoes opera no ramo de e-commerce dentro da área de artigos esportivos. Como a empresa ainda não tem um time de dados estruturado, ela fez um contrato com uma empresa de consultoria especializada no ramo de transformação digital. Nesse sentido, após uma primeira reunião com o CFO da quality, a empresa de consultoria constatou que o primeiro projeto a ser realizado deveria ser a projeção de receita líquida. O portfólio da quality é bem amplo, com mais de 100 mil clientes atacadistas e varejistas. A ideia inicial do projeto é entender as principais variáveis que estão correlacionadas à receita e retirar insights importantes para o time de negócio."
   ]
  },
  {
   "cell_type": "markdown",
   "metadata": {},
   "source": [
    "## Objetivo de negócio:"
   ]
  },
  {
   "cell_type": "markdown",
   "metadata": {},
   "source": [
    "* Projeção de receita para os próximos 6 meses"
   ]
  },
  {
   "cell_type": "markdown",
   "metadata": {},
   "source": [
    "## Entendimento do negócio:"
   ]
  },
  {
   "cell_type": "markdown",
   "metadata": {},
   "source": [
    "1. Qual a motivação:\n",
    "    * A projeção de receita nos próximos 6 meses surgiu a partir da necessidade de entender qual o melhor budget para investimentos na empresa e também entender quais seriam as áreas que deveriam ter um melhor investimento.\n",
    "\n",
    "\n",
    "2. Qual a causa raíz do problema:\n",
    "    * Dificuldade em determinar o melhor budget para investimentos internos\n",
    "\n",
    "\n",
    "3. Quem é o dono do problema:\n",
    "    * Diretor financeiro (CFO) da QualityShoes\n",
    "\n",
    "\n",
    "4. Qual é o formato da solução?\n",
    "    * **Granularidade:** Previsão de receita nos próximos 6 meses\n",
    "    * **Tipo de problema:** Previsão de receita (Regressão)\n",
    "    * **Potenciais métodos:** Séries temporais e regressão com algumas modificações\n",
    "    * **Formato de entrega:**\n",
    "        * O valor total da receita líquida no final dos 6 meses.\n",
    "        * A entrega será pelo app do streamlit\n",
    "        * Checagem trimestral\n"
   ]
  },
  {
   "cell_type": "markdown",
   "metadata": {},
   "source": [
    "# 0.0 Imports"
   ]
  },
  {
   "cell_type": "code",
   "execution_count": 64,
   "metadata": {},
   "outputs": [],
   "source": [
    "import pandas as pd\n",
    "import numpy as np\n",
    "import matplotlib.pyplot as plt\n",
    "import seaborn as sns\n",
    "import re\n",
    "import os\n",
    "import pathlib\n",
    "\n",
    "\n",
    "\n",
    "\n",
    "from IPython.core.display  import HTML\n",
    "from IPython.display       import Image\n"
   ]
  },
  {
   "cell_type": "code",
   "execution_count": 65,
   "metadata": {},
   "outputs": [],
   "source": [
    "import warnings\n",
    "warnings.filterwarnings(\"ignore\")"
   ]
  },
  {
   "cell_type": "markdown",
   "metadata": {},
   "source": [
    "## 0.1 Helper Functions"
   ]
  },
  {
   "cell_type": "code",
   "execution_count": 66,
   "metadata": {},
   "outputs": [
    {
     "data": {
      "text/html": [
       "<style>.container { width:100% !important; }</style>"
      ],
      "text/plain": [
       "<IPython.core.display.HTML object>"
      ]
     },
     "metadata": {},
     "output_type": "display_data"
    }
   ],
   "source": [
    "def jupyter_settings():\n",
    "    %matplotlib inline\n",
    "    plt.style.use( 'bmh' )\n",
    "    plt.rcParams['figure.figsize'] = [25, 12]\n",
    "    plt.rcParams['font.size'] = 24\n",
    "    display( HTML( '<style>.container { width:100% !important; }</style>') )\n",
    "    pd.options.display.max_columns = None\n",
    "    pd.options.display.max_rows = None\n",
    "    pd.set_option( 'display.expand_frame_repr', False )\n",
    "    sns.set()\n",
    "jupyter_settings()"
   ]
  },
  {
   "cell_type": "code",
   "execution_count": 46,
   "metadata": {},
   "outputs": [],
   "source": [
    "def _extract_letter(text):\n",
    "    text = re.sub('[A-Z]','',text)\n",
    "    return text\n"
   ]
  },
  {
   "cell_type": "markdown",
   "metadata": {},
   "source": [
    "## 0.2 Variables path"
   ]
  },
  {
   "cell_type": "code",
   "execution_count": 77,
   "metadata": {},
   "outputs": [],
   "source": [
    "PATH_ROOT = pathlib.Path('..').resolve()\n",
    "DATA_ROOT = os.path.join(PATH_ROOT,'data')\n",
    "DATA_RAW = os.path.join(DATA_ROOT,'raw')\n",
    "DATA_PREPROCESSED = os.path.join(DATA_RAW, 'preprocessed')\n",
    "\n",
    "DOC_ROOT = os.path.join(PATH_ROOT, 'doc')\n",
    "IMAGE_PATH = os.path.join(DOC_ROOT,'image')\n",
    "# File data\n",
    "_data_raw = os.path.join(DATA_RAW, 'Dataset_teste_Just_BI.csv')\n",
    "_image_map_hypothesis = os.path.join(IMAGE_PATH,'Forescast_Net_Revenue.png')\n"
   ]
  },
  {
   "cell_type": "markdown",
   "metadata": {},
   "source": [
    "## 0.3 Data Loading"
   ]
  },
  {
   "cell_type": "code",
   "execution_count": 19,
   "metadata": {},
   "outputs": [],
   "source": [
    "df = pd.read_csv(_data_raw, sep=';')"
   ]
  },
  {
   "cell_type": "markdown",
   "metadata": {},
   "source": [
    "# 1.0 Data Description"
   ]
  },
  {
   "cell_type": "code",
   "execution_count": 20,
   "metadata": {},
   "outputs": [],
   "source": [
    "df1 = df.copy()"
   ]
  },
  {
   "cell_type": "code",
   "execution_count": 21,
   "metadata": {},
   "outputs": [
    {
     "data": {
      "text/html": [
       "<div>\n",
       "<style scoped>\n",
       "    .dataframe tbody tr th:only-of-type {\n",
       "        vertical-align: middle;\n",
       "    }\n",
       "\n",
       "    .dataframe tbody tr th {\n",
       "        vertical-align: top;\n",
       "    }\n",
       "\n",
       "    .dataframe thead th {\n",
       "        text-align: right;\n",
       "    }\n",
       "</style>\n",
       "<table border=\"1\" class=\"dataframe\">\n",
       "  <thead>\n",
       "    <tr style=\"text-align: right;\">\n",
       "      <th></th>\n",
       "      <th>customer_id</th>\n",
       "      <th>customer_acquisition_channel</th>\n",
       "      <th>year</th>\n",
       "      <th>week</th>\n",
       "      <th>net_revenue</th>\n",
       "      <th>gross_revenue</th>\n",
       "      <th>boxes</th>\n",
       "    </tr>\n",
       "  </thead>\n",
       "  <tbody>\n",
       "    <tr>\n",
       "      <th>0</th>\n",
       "      <td>206461</td>\n",
       "      <td>Paid Marketing</td>\n",
       "      <td>2014</td>\n",
       "      <td>W09</td>\n",
       "      <td>71</td>\n",
       "      <td>71</td>\n",
       "      <td>2</td>\n",
       "    </tr>\n",
       "    <tr>\n",
       "      <th>1</th>\n",
       "      <td>462640</td>\n",
       "      <td>Paid Marketing</td>\n",
       "      <td>2015</td>\n",
       "      <td>W25</td>\n",
       "      <td>28</td>\n",
       "      <td>56</td>\n",
       "      <td>1</td>\n",
       "    </tr>\n",
       "    <tr>\n",
       "      <th>2</th>\n",
       "      <td>666461</td>\n",
       "      <td>Referral</td>\n",
       "      <td>2015</td>\n",
       "      <td>W50</td>\n",
       "      <td>40</td>\n",
       "      <td>40</td>\n",
       "      <td>1</td>\n",
       "    </tr>\n",
       "    <tr>\n",
       "      <th>3</th>\n",
       "      <td>183202</td>\n",
       "      <td>Referral</td>\n",
       "      <td>2013</td>\n",
       "      <td>W42</td>\n",
       "      <td>18</td>\n",
       "      <td>37</td>\n",
       "      <td>1</td>\n",
       "    </tr>\n",
       "    <tr>\n",
       "      <th>4</th>\n",
       "      <td>410993</td>\n",
       "      <td>Referral</td>\n",
       "      <td>2014</td>\n",
       "      <td>W29</td>\n",
       "      <td>0</td>\n",
       "      <td>37</td>\n",
       "      <td>1</td>\n",
       "    </tr>\n",
       "  </tbody>\n",
       "</table>\n",
       "</div>"
      ],
      "text/plain": [
       "   customer_id customer_acquisition_channel  year week  net_revenue  \\\n",
       "0       206461               Paid Marketing  2014  W09           71   \n",
       "1       462640               Paid Marketing  2015  W25           28   \n",
       "2       666461                     Referral  2015  W50           40   \n",
       "3       183202                     Referral  2013  W42           18   \n",
       "4       410993                     Referral  2014  W29            0   \n",
       "\n",
       "   gross_revenue  boxes  \n",
       "0             71      2  \n",
       "1             56      1  \n",
       "2             40      1  \n",
       "3             37      1  \n",
       "4             37      1  "
      ]
     },
     "execution_count": 21,
     "metadata": {},
     "output_type": "execute_result"
    }
   ],
   "source": [
    "df1.head()"
   ]
  },
  {
   "cell_type": "markdown",
   "metadata": {},
   "source": [
    "## 1.1 Data info General"
   ]
  },
  {
   "cell_type": "code",
   "execution_count": 22,
   "metadata": {},
   "outputs": [
    {
     "name": "stdout",
     "output_type": "stream",
     "text": [
      "<class 'pandas.core.frame.DataFrame'>\n",
      "RangeIndex: 715875 entries, 0 to 715874\n",
      "Data columns (total 7 columns):\n",
      " #   Column                        Non-Null Count   Dtype \n",
      "---  ------                        --------------   ----- \n",
      " 0   customer_id                   715875 non-null  int64 \n",
      " 1   customer_acquisition_channel  715875 non-null  object\n",
      " 2   year                          715875 non-null  int64 \n",
      " 3   week                          715875 non-null  object\n",
      " 4   net_revenue                   715875 non-null  int64 \n",
      " 5   gross_revenue                 715875 non-null  int64 \n",
      " 6   boxes                         715875 non-null  int64 \n",
      "dtypes: int64(5), object(2)\n",
      "memory usage: 38.2+ MB\n"
     ]
    }
   ],
   "source": [
    "df.info()"
   ]
  },
  {
   "cell_type": "markdown",
   "metadata": {},
   "source": [
    "Atributos:\n",
    "- Id do Cliente\n",
    "- Canal de aquisição do cliente\n",
    "- Ano da venda\n",
    "- Semana da venda\n",
    "- Receita líquida\n",
    "- Receita bruta\n",
    "- Caixas"
   ]
  },
  {
   "cell_type": "markdown",
   "metadata": {},
   "source": [
    "Obs: Não temos dados faltantes"
   ]
  },
  {
   "cell_type": "markdown",
   "metadata": {},
   "source": [
    "## 1.2 Check NA"
   ]
  },
  {
   "cell_type": "code",
   "execution_count": 27,
   "metadata": {},
   "outputs": [
    {
     "data": {
      "text/plain": [
       "customer_id                     0.0\n",
       "customer_acquisition_channel    0.0\n",
       "year                            0.0\n",
       "week                            0.0\n",
       "net_revenue                     0.0\n",
       "gross_revenue                   0.0\n",
       "boxes                           0.0\n",
       "dtype: float64"
      ]
     },
     "execution_count": 27,
     "metadata": {},
     "output_type": "execute_result"
    }
   ],
   "source": [
    "# Percentual dos dados faltantes\n",
    "(df1.isna().sum() / len(df1))*100"
   ]
  },
  {
   "cell_type": "markdown",
   "metadata": {},
   "source": [
    "## 1.3 Descriptive Statistics"
   ]
  },
  {
   "cell_type": "markdown",
   "metadata": {},
   "source": [
    "### Change DTypes"
   ]
  },
  {
   "cell_type": "code",
   "execution_count": 48,
   "metadata": {},
   "outputs": [],
   "source": [
    "# Extraindo os números da semana\n",
    "df1['week_num'] = df1['week'].apply(_extract_letter)"
   ]
  },
  {
   "cell_type": "code",
   "execution_count": 53,
   "metadata": {},
   "outputs": [],
   "source": [
    "df1['week_num']=df1['week_num'].astype('int64')\n",
    "df1['net_revenue']= df1['net_revenue'].astype('float64')\n",
    "df1['gross_revenue'] = df1['gross_revenue'].astype('float64')"
   ]
  },
  {
   "cell_type": "code",
   "execution_count": 54,
   "metadata": {},
   "outputs": [],
   "source": [
    "numerical_attributes = df1.select_dtypes(include=['int64','float64'])\n",
    "categorical_attributes = df1.select_dtypes(exclude=['int64','float64','datetime64'])"
   ]
  },
  {
   "cell_type": "markdown",
   "metadata": {},
   "source": [
    "### 1.3.1 Numerical Attributes"
   ]
  },
  {
   "cell_type": "code",
   "execution_count": 56,
   "metadata": {},
   "outputs": [
    {
     "data": {
      "text/html": [
       "<div>\n",
       "<style scoped>\n",
       "    .dataframe tbody tr th:only-of-type {\n",
       "        vertical-align: middle;\n",
       "    }\n",
       "\n",
       "    .dataframe tbody tr th {\n",
       "        vertical-align: top;\n",
       "    }\n",
       "\n",
       "    .dataframe thead th {\n",
       "        text-align: right;\n",
       "    }\n",
       "</style>\n",
       "<table border=\"1\" class=\"dataframe\">\n",
       "  <thead>\n",
       "    <tr style=\"text-align: right;\">\n",
       "      <th></th>\n",
       "      <th>count</th>\n",
       "      <th>mean</th>\n",
       "      <th>std</th>\n",
       "      <th>min</th>\n",
       "      <th>25%</th>\n",
       "      <th>50%</th>\n",
       "      <th>75%</th>\n",
       "      <th>max</th>\n",
       "    </tr>\n",
       "  </thead>\n",
       "  <tbody>\n",
       "    <tr>\n",
       "      <th>customer_id</th>\n",
       "      <td>715875.0</td>\n",
       "      <td>323664.862498</td>\n",
       "      <td>186136.720066</td>\n",
       "      <td>103.0</td>\n",
       "      <td>159325.0</td>\n",
       "      <td>289541.0</td>\n",
       "      <td>476431.0</td>\n",
       "      <td>746721.0</td>\n",
       "    </tr>\n",
       "    <tr>\n",
       "      <th>year</th>\n",
       "      <td>715875.0</td>\n",
       "      <td>2014.196999</td>\n",
       "      <td>0.754568</td>\n",
       "      <td>2013.0</td>\n",
       "      <td>2014.0</td>\n",
       "      <td>2014.0</td>\n",
       "      <td>2015.0</td>\n",
       "      <td>2015.0</td>\n",
       "    </tr>\n",
       "    <tr>\n",
       "      <th>net_revenue</th>\n",
       "      <td>715875.0</td>\n",
       "      <td>36.415437</td>\n",
       "      <td>13.646022</td>\n",
       "      <td>0.0</td>\n",
       "      <td>37.0</td>\n",
       "      <td>37.0</td>\n",
       "      <td>37.0</td>\n",
       "      <td>532.0</td>\n",
       "    </tr>\n",
       "    <tr>\n",
       "      <th>gross_revenue</th>\n",
       "      <td>715875.0</td>\n",
       "      <td>41.430585</td>\n",
       "      <td>9.752502</td>\n",
       "      <td>14.0</td>\n",
       "      <td>37.0</td>\n",
       "      <td>37.0</td>\n",
       "      <td>40.0</td>\n",
       "      <td>532.0</td>\n",
       "    </tr>\n",
       "    <tr>\n",
       "      <th>boxes</th>\n",
       "      <td>715875.0</td>\n",
       "      <td>1.034697</td>\n",
       "      <td>0.190199</td>\n",
       "      <td>1.0</td>\n",
       "      <td>1.0</td>\n",
       "      <td>1.0</td>\n",
       "      <td>1.0</td>\n",
       "      <td>17.0</td>\n",
       "    </tr>\n",
       "    <tr>\n",
       "      <th>week_num</th>\n",
       "      <td>715875.0</td>\n",
       "      <td>27.491899</td>\n",
       "      <td>15.105624</td>\n",
       "      <td>1.0</td>\n",
       "      <td>14.0</td>\n",
       "      <td>28.0</td>\n",
       "      <td>41.0</td>\n",
       "      <td>53.0</td>\n",
       "    </tr>\n",
       "  </tbody>\n",
       "</table>\n",
       "</div>"
      ],
      "text/plain": [
       "                  count           mean            std     min       25%  \\\n",
       "customer_id    715875.0  323664.862498  186136.720066   103.0  159325.0   \n",
       "year           715875.0    2014.196999       0.754568  2013.0    2014.0   \n",
       "net_revenue    715875.0      36.415437      13.646022     0.0      37.0   \n",
       "gross_revenue  715875.0      41.430585       9.752502    14.0      37.0   \n",
       "boxes          715875.0       1.034697       0.190199     1.0       1.0   \n",
       "week_num       715875.0      27.491899      15.105624     1.0      14.0   \n",
       "\n",
       "                    50%       75%       max  \n",
       "customer_id    289541.0  476431.0  746721.0  \n",
       "year             2014.0    2015.0    2015.0  \n",
       "net_revenue        37.0      37.0     532.0  \n",
       "gross_revenue      37.0      40.0     532.0  \n",
       "boxes               1.0       1.0      17.0  \n",
       "week_num           28.0      41.0      53.0  "
      ]
     },
     "execution_count": 56,
     "metadata": {},
     "output_type": "execute_result"
    }
   ],
   "source": [
    "numerical_attributes.describe().T"
   ]
  },
  {
   "cell_type": "code",
   "execution_count": 61,
   "metadata": {},
   "outputs": [
    {
     "data": {
      "text/html": [
       "<div>\n",
       "<style scoped>\n",
       "    .dataframe tbody tr th:only-of-type {\n",
       "        vertical-align: middle;\n",
       "    }\n",
       "\n",
       "    .dataframe tbody tr th {\n",
       "        vertical-align: top;\n",
       "    }\n",
       "\n",
       "    .dataframe thead th {\n",
       "        text-align: right;\n",
       "    }\n",
       "</style>\n",
       "<table border=\"1\" class=\"dataframe\">\n",
       "  <thead>\n",
       "    <tr style=\"text-align: right;\">\n",
       "      <th></th>\n",
       "      <th>Attributes</th>\n",
       "      <th>count</th>\n",
       "      <th>mean</th>\n",
       "      <th>std</th>\n",
       "      <th>min</th>\n",
       "      <th>25%</th>\n",
       "      <th>50%</th>\n",
       "      <th>75%</th>\n",
       "      <th>max</th>\n",
       "      <th>range</th>\n",
       "      <th>skew</th>\n",
       "      <th>kurtosis</th>\n",
       "    </tr>\n",
       "  </thead>\n",
       "  <tbody>\n",
       "    <tr>\n",
       "      <th>0</th>\n",
       "      <td>customer_id</td>\n",
       "      <td>715875.0</td>\n",
       "      <td>323664.862498</td>\n",
       "      <td>186136.720066</td>\n",
       "      <td>103.0</td>\n",
       "      <td>159325.0</td>\n",
       "      <td>289541.0</td>\n",
       "      <td>476431.0</td>\n",
       "      <td>746721.0</td>\n",
       "      <td>746618.0</td>\n",
       "      <td>0.403586</td>\n",
       "      <td>-1.048270</td>\n",
       "    </tr>\n",
       "    <tr>\n",
       "      <th>1</th>\n",
       "      <td>year</td>\n",
       "      <td>715875.0</td>\n",
       "      <td>2014.196999</td>\n",
       "      <td>0.754568</td>\n",
       "      <td>2013.0</td>\n",
       "      <td>2014.0</td>\n",
       "      <td>2014.0</td>\n",
       "      <td>2015.0</td>\n",
       "      <td>2015.0</td>\n",
       "      <td>2.0</td>\n",
       "      <td>-0.342490</td>\n",
       "      <td>-1.179912</td>\n",
       "    </tr>\n",
       "    <tr>\n",
       "      <th>2</th>\n",
       "      <td>net_revenue</td>\n",
       "      <td>715875.0</td>\n",
       "      <td>36.415437</td>\n",
       "      <td>13.646022</td>\n",
       "      <td>0.0</td>\n",
       "      <td>37.0</td>\n",
       "      <td>37.0</td>\n",
       "      <td>37.0</td>\n",
       "      <td>532.0</td>\n",
       "      <td>532.0</td>\n",
       "      <td>0.526808</td>\n",
       "      <td>10.403764</td>\n",
       "    </tr>\n",
       "    <tr>\n",
       "      <th>3</th>\n",
       "      <td>gross_revenue</td>\n",
       "      <td>715875.0</td>\n",
       "      <td>41.430585</td>\n",
       "      <td>9.752502</td>\n",
       "      <td>14.0</td>\n",
       "      <td>37.0</td>\n",
       "      <td>37.0</td>\n",
       "      <td>40.0</td>\n",
       "      <td>532.0</td>\n",
       "      <td>518.0</td>\n",
       "      <td>3.435058</td>\n",
       "      <td>36.807084</td>\n",
       "    </tr>\n",
       "    <tr>\n",
       "      <th>4</th>\n",
       "      <td>boxes</td>\n",
       "      <td>715875.0</td>\n",
       "      <td>1.034697</td>\n",
       "      <td>0.190199</td>\n",
       "      <td>1.0</td>\n",
       "      <td>1.0</td>\n",
       "      <td>1.0</td>\n",
       "      <td>1.0</td>\n",
       "      <td>17.0</td>\n",
       "      <td>16.0</td>\n",
       "      <td>6.621214</td>\n",
       "      <td>112.525487</td>\n",
       "    </tr>\n",
       "    <tr>\n",
       "      <th>5</th>\n",
       "      <td>week_num</td>\n",
       "      <td>715875.0</td>\n",
       "      <td>27.491899</td>\n",
       "      <td>15.105624</td>\n",
       "      <td>1.0</td>\n",
       "      <td>14.0</td>\n",
       "      <td>28.0</td>\n",
       "      <td>41.0</td>\n",
       "      <td>53.0</td>\n",
       "      <td>52.0</td>\n",
       "      <td>-0.061525</td>\n",
       "      <td>-1.238845</td>\n",
       "    </tr>\n",
       "  </tbody>\n",
       "</table>\n",
       "</div>"
      ],
      "text/plain": [
       "      Attributes     count           mean            std     min       25%  \\\n",
       "0    customer_id  715875.0  323664.862498  186136.720066   103.0  159325.0   \n",
       "1           year  715875.0    2014.196999       0.754568  2013.0    2014.0   \n",
       "2    net_revenue  715875.0      36.415437      13.646022     0.0      37.0   \n",
       "3  gross_revenue  715875.0      41.430585       9.752502    14.0      37.0   \n",
       "4          boxes  715875.0       1.034697       0.190199     1.0       1.0   \n",
       "5       week_num  715875.0      27.491899      15.105624     1.0      14.0   \n",
       "\n",
       "        50%       75%       max     range      skew    kurtosis  \n",
       "0  289541.0  476431.0  746721.0  746618.0  0.403586   -1.048270  \n",
       "1    2014.0    2015.0    2015.0       2.0 -0.342490   -1.179912  \n",
       "2      37.0      37.0     532.0     532.0  0.526808   10.403764  \n",
       "3      37.0      40.0     532.0     518.0  3.435058   36.807084  \n",
       "4       1.0       1.0      17.0      16.0  6.621214  112.525487  \n",
       "5      28.0      41.0      53.0      52.0 -0.061525   -1.238845  "
      ]
     },
     "execution_count": 61,
     "metadata": {},
     "output_type": "execute_result"
    }
   ],
   "source": [
    "# Central Tendency - Mean, Median (Métricas que resume a representatividade dos dados)\n",
    "# Dispersion - std, min, max, range, skew, kurtosis (Medidas de dispersão em relação a média)\n",
    "# skew : Como é a deformação da distribuição em relação a normal, se a deformação for mais para a direita teremos uma skew positiva, se for mais para a esquerda teremos uma skew negativa.\n",
    "# Kurtosis: Métrica em relação a concentração dos dados, quanto maior a Curtose positiva, maior será o pico de concentração dos dados. Entretanto, quanto menor a Curtose, mais dispersos serão os dados, achatando ainda mais minha curva de distribuição.\n",
    "skew = pd.DataFrame(numerical_attributes.apply( lambda x: x.skew() ))\n",
    "kurtosis = pd.DataFrame(numerical_attributes.apply( lambda x: x.kurtosis() ))\n",
    "range = pd.DataFrame(numerical_attributes.apply( lambda x: x.max() - x.min() ))\n",
    "describe = pd.DataFrame(numerical_attributes.describe()).T\n",
    "describe['range'] = range\n",
    "describe['skew'] = skew\n",
    "describe['kurtosis'] = kurtosis\n",
    "describe = describe.reset_index()\n",
    "describe = describe.rename(columns={'index':'Attributes'})\n",
    "describe"
   ]
  },
  {
   "cell_type": "code",
   "execution_count": 69,
   "metadata": {},
   "outputs": [
    {
     "data": {
      "text/plain": [
       "<AxesSubplot:xlabel='net_revenue', ylabel='Density'>"
      ]
     },
     "execution_count": 69,
     "metadata": {},
     "output_type": "execute_result"
    },
    {
     "data": {
      "image/png": "[encoded data removed]",
      "text/plain": [
       "<Figure size 1800x864 with 1 Axes>"
      ]
     },
     "metadata": {},
     "output_type": "display_data"
    }
   ],
   "source": [
    "sns.distplot(df1['net_revenue'])"
   ]
  },
  {
   "cell_type": "markdown",
   "metadata": {},
   "source": [
    "### 1.3.2 Categorical Attributes"
   ]
  },
  {
   "cell_type": "code",
   "execution_count": 74,
   "metadata": {},
   "outputs": [
    {
     "data": {
      "text/plain": [
       "customer_acquisition_channel    2\n",
       "boxes                           9\n",
       "dtype: int64"
      ]
     },
     "execution_count": 74,
     "metadata": {},
     "output_type": "execute_result"
    }
   ],
   "source": [
    "categorical_attributes['boxes'] = numerical_attributes['boxes']\n",
    "categorical_attributes = categorical_attributes.drop(['week'], axis=1)\n",
    "categorical_attributes.apply(lambda x: x.unique().shape[0])"
   ]
  },
  {
   "cell_type": "code",
   "execution_count": 75,
   "metadata": {},
   "outputs": [
    {
     "data": {
      "text/plain": [
       "<AxesSubplot:xlabel='boxes', ylabel='net_revenue'>"
      ]
     },
     "execution_count": 75,
     "metadata": {},
     "output_type": "execute_result"
    },
    {
     "data": {
      "image/png": "[encoded data removed]",
      "text/plain": [
       "<Figure size 1440x576 with 2 Axes>"
      ]
     },
     "metadata": {},
     "output_type": "display_data"
    }
   ],
   "source": [
    "plt.figure(figsize = [20,8])\n",
    "plt.subplot(1,2,1)\n",
    "sns.boxplot(x='customer_acquisition_channel' , y= 'net_revenue' , data= df1)\n",
    "\n",
    "plt.subplot(1,2,2)\n",
    "sns.boxplot(x='boxes' , y= 'net_revenue' , data= df1)\n",
    "\n"
   ]
  },
  {
   "cell_type": "markdown",
   "metadata": {},
   "source": [
    "Obs:\n",
    "- Ao comparar os tipos de canal para aquisição dos clientes é perceptível que o marketing pago tem levemente uma distribuição mais favorecida para receita líquida que o canal de referências. Mas vale ressaltar que isso vale apenas para pontos extremos (Outliers), a média são equivalentes entre os dois tipos de acordo com o boxplot.\n",
    "\n",
    "- O Box 7 tem uma melhor distribuição quando comparado com os demais boxes. Além de não apresentar outliers, a média está acima da mediana, então considera-se que temos um bom desempenho de arrecadação de receita líquida para esse box."
   ]
  },
  {
   "cell_type": "markdown",
   "metadata": {},
   "source": [
    "# 2.0 Feature Engineering"
   ]
  },
  {
   "cell_type": "code",
   "execution_count": 76,
   "metadata": {},
   "outputs": [],
   "source": [
    "df2 = df1.copy()"
   ]
  },
  {
   "cell_type": "markdown",
   "metadata": {},
   "source": [
    "## 2.1 Mind Map Hypothesis"
   ]
  },
  {
   "cell_type": "code",
   "execution_count": null,
   "metadata": {},
   "outputs": [],
   "source": []
  }
 ],
 "metadata": {
  "kernelspec": {
   "display_name": "Python 3.9.13 ('just-little-g4703ppj-py3.9')",
   "language": "python",
   "name": "python3"
  },
  "language_info": {
   "codemirror_mode": {
    "name": "ipython",
    "version": 3
   },
   "file_extension": ".py",
   "mimetype": "text/x-python",
   "name": "python",
   "nbconvert_exporter": "python",
   "pygments_lexer": "ipython3",
   "version": "3.9.13"
  },
  "orig_nbformat": 4,
  "vscode": {
   "interpreter": {
    "hash": "d07a8a6ec380d2212877e562bde65a133712ec40a77bdb0a2761101ffe230ecc"
   }
  }
 },
 "nbformat": 4,
 "nbformat_minor": 2
}
